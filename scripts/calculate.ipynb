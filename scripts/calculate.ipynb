{
 "cells": [
  {
   "cell_type": "code",
   "execution_count": 49,
   "metadata": {},
   "outputs": [],
   "source": [
    "%matplotlib inline\n",
    "\n",
    "import sys\n",
    "from pathlib import Path\n",
    "\n",
    "import random\n",
    "\n",
    "import numpy as np\n",
    "\n",
    "import re\n",
    "\n",
    "import pandas as pd\n",
    "from tqdm import tqdm\n",
    "\n",
    "\n",
    "import seaborn as sns\n",
    "import matplotlib.pyplot as plt\n",
    "import itertools as it\n",
    "import scipy.stats\n",
    "\n",
    "import krippendorff\n",
    "\n",
    "\n",
    "random.seed(675756)\n",
    "np.random.seed(675756)\n",
    "\n",
    "base_path = Path(\"/nfs/users/tangxiangru/crowdsourcing/\")\n",
    "sys.path.append(str(base_path/\"scripts\"))\n",
    "\n",
    "import summaryanalysis.ordinal as ordinal\n",
    "from summaryanalysis.timereliability import compute_time_reliability_curve, compute_grouped_subsample_variance\n",
    "from summaryanalysis.shr import compute_annotator_shr\n",
    "from summaryanalysis.art import paired_approximate_randomization_test\n",
    "from summaryanalysis.montecarlo import run_art_experiment, filter_wrong_rankings, read_obspower_files, run_art_experiment_fixed_budget, get_model_type1_error_rates\n",
    "\n",
    "\n",
    "data_path = base_path/\"final_result\""
   ]
  },
  {
   "cell_type": "markdown",
   "metadata": {},
   "source": [
    "## First we load annotation in final_result file"
   ]
  },
  {
   "cell_type": "code",
   "execution_count": 50,
   "metadata": {},
   "outputs": [],
   "source": [
    "experiments = {}\n",
    "times = {}\n",
    "\n",
    "for method in \"likert\", \"bws\":\n",
    "    for question in \"xsum\", \"cnndm\":\n",
    "        fname = f\"{question}.{method}.csv\"\n",
    "        experiments[method, question] = pd.read_csv(data_path / fname, index_col=[0, 1, 2]).iloc[:,0:2]\n"
   ]
  },
  {
   "cell_type": "markdown",
   "metadata": {},
   "source": [
    "## We reproduce the score distribution\n",
    "For significance analysis, run analyse-ordinal.r"
   ]
  },
  {
   "cell_type": "code",
   "execution_count": 51,
   "metadata": {},
   "outputs": [
    {
     "name": "stdout",
     "output_type": "stream",
     "text": [
      "likert - xsum\tbws - xsum\tlikert - cnndm\tbws - cnndm\n",
      "3.350\t3.247\t3.887\t3.230\n",
      "3.293\t3.360\t3.860\t3.100\n",
      "3.433\t3.570\t4.017\t3.593\n",
      "2.790\t2.827\t3.863\t3.087\n"
     ]
    }
   ],
   "source": [
    "order = [\n",
    "    (\"likert\", \"xsum\"),\n",
    "    (\"bws\", \"xsum\"),\n",
    "    (\"likert\", \"cnndm\"),\n",
    "    (\"bws\", \"cnndm\")\n",
    "]\n",
    "\n",
    "system_order = [\"pegasus\", \"prophetnet\", \"bart\", \"bertextabs\"]\n",
    "\n",
    "all_mean_scores = {}\n",
    "for (method, question), judgements in experiments.items():\n",
    "    mean_scores = judgements.groupby(\"system\").mean()\n",
    "    #print(mean_scores)\n",
    "    if method == \"bws\":\n",
    "        mean_scores += 1 # We export 0-based ranks, but 1-based ranks are more readable\n",
    "\n",
    "    all_mean_scores[method, question] = mean_scores\n",
    "    \n",
    "headers = []\n",
    "for (method, question) in order:\n",
    "    headers.append(f\"{method} - {question}\")\n",
    "\n",
    "rows = []\n",
    "for system in system_order:\n",
    "    row = []\n",
    "    for (method, question) in order:\n",
    "        mean_scores = all_mean_scores[method, question]\n",
    "        #print(mean_scores)\n",
    "        row.append(f\"{mean_scores.loc[system].item():.3f}\")\n",
    "    rows.append(row)\n",
    "\n",
    "print(\"\\t\".join(headers))\n",
    "print(\"\\n\".join(map(lambda r: \"\\t\".join(r), rows)))\n"
   ]
  },
  {
   "cell_type": "markdown",
   "metadata": {},
   "source": [
    "## Compute krippendorff reliability"
   ]
  },
  {
   "cell_type": "code",
   "execution_count": 52,
   "metadata": {},
   "outputs": [
    {
     "name": "stdout",
     "output_type": "stream",
     "text": [
      "likert xsum 0.2202\n",
      "likert cnndm 0.0443\n",
      "bws xsum 0.2477\n",
      "bws cnndm 0.1582\n"
     ]
    }
   ],
   "source": [
    "agreement_reliabilities = {}\n",
    "\n",
    "\n",
    "for (method, question), judgements in experiments.items():\n",
    "    if \"likert_10\" in method:\n",
    "        key = \"score\"\n",
    "    else:\n",
    "        key = \"score\" if method == \"likert\" else \"rank\"\n",
    "    annotation_matrix = pd.pivot_table(data=judgements.reset_index(), values=key, index=[\"document\", \"system\"], columns=\"annotator\")    \n",
    "    agreement = krippendorff.alpha(annotation_matrix.T.to_numpy(), level_of_measurement=\"ordinal\")\n",
    "    agreement_reliabilities[method, question] = agreement\n",
    "\n",
    "for (method, question), score in agreement_reliabilities.items():\n",
    "    print(f\"{method} {question} {score:.4f}\")"
   ]
  },
  {
   "cell_type": "markdown",
   "metadata": {},
   "source": [
    "## Compute SHR"
   ]
  },
  {
   "cell_type": "code",
   "execution_count": 53,
   "metadata": {},
   "outputs": [
    {
     "name": "stdout",
     "output_type": "stream",
     "text": [
      "xsum\n",
      "likert\n",
      "likert xsum 0.92843\n",
      "cnndm\n",
      "likert\n",
      "likert cnndm 0.44231\n",
      "xsum\n",
      "bws\n",
      "bws xsum 0.90664\n",
      "cnndm\n",
      "bws\n",
      "bws cnndm 0.87511\n"
     ]
    }
   ],
   "source": [
    "for (method, question), judgements in experiments.items():\n",
    "    if \"likert_10\" in method:\n",
    "        key = \"score\"\n",
    "    else:\n",
    "        key = \"score\" if method == \"likert\" else \"rank\"\n",
    "    print(question)\n",
    "    print(method)\n",
    "    shr = compute_annotator_shr(judgements, score_names=[key])\n",
    "    shr = shr[\"pearson\"].get(key)\n",
    "    print(method, question, f\"{shr:.5f}\")"
   ]
  },
  {
   "cell_type": "markdown",
   "metadata": {},
   "source": [
    "## Score distribution"
   ]
  },
  {
   "cell_type": "code",
   "execution_count": 40,
   "metadata": {},
   "outputs": [
    {
     "data": {
      "image/png": "[encoded data removed]",
      "text/plain": [
       "<Figure size 648x288 with 2 Axes>"
      ]
     },
     "metadata": {
      "needs_background": "light"
     },
     "output_type": "display_data"
    }
   ],
   "source": [
    "_, axes = plt.subplots(1, 2, sharey=True)\n",
    "\n",
    "markers = {\n",
    "    \"pegasus\": \"X\",\n",
    "    \"prophetnet\": \"o\",\n",
    "    \"bart\": \"+\",\n",
    "    \"bertextabs\": \"s\",\n",
    "}\n",
    "\n",
    "labels = {\n",
    "    \"pegasus\": \"pegasus\",\n",
    "    \"prophetnet\": \"prophetnet\",\n",
    "    \"bart\": \"bart\",\n",
    "    \"bertextabs\": \"bertextabs\",\n",
    "}\n",
    "\n",
    "likert_experiments = list(filter(lambda x: x[0][0] == \"likert\", sorted(experiments.items())))\n",
    "\n",
    "for idx, (ax, ((method, question), annotations)) in enumerate(zip(axes, likert_experiments)):\n",
    "    all_val_counts = annotations.groupby([\"system\", \"score\"]).size()\n",
    "    \n",
    "    systems = sorted(all_val_counts.index.unique(\"system\"))\n",
    "    for system in systems:\n",
    "        val_counts = all_val_counts.xs(system, level=\"system\")\n",
    "        ax.plot(val_counts.index.to_frame()[\"score\"], val_counts, marker=markers[system], label=labels[system])\n",
    "    \n",
    "    if idx == 1:\n",
    "        ax.set_title(\"XSum\")\n",
    "        plt.legend()\n",
    "    else:\n",
    "        ax.set_ylabel(\"#Number of Annotations\")\n",
    "        ax.set_title(\"CNN/DM\")\n",
    "    ax.set_xlabel(\"Likert Score\")\n",
    "        \n",
    "fig = plt.gcf()\n",
    "fig.subplots_adjust(hspace=0, wspace=0)\n",
    "fig.set_size_inches(9, 4)\n",
    "fig.savefig('scoredist.png', dpi=100, bbox_inches=\"tight\")"
   ]
  },
  {
   "cell_type": "code",
   "execution_count": null,
   "metadata": {},
   "outputs": [],
   "source": []
  },
  {
   "cell_type": "code",
   "execution_count": null,
   "metadata": {},
   "outputs": [],
   "source": []
  }
 ],
 "metadata": {
  "kernelspec": {
   "display_name": "Python 3",
   "language": "python",
   "name": "python3"
  },
  "language_info": {
   "codemirror_mode": {
    "name": "ipython",
    "version": 3
   },
   "file_extension": ".py",
   "mimetype": "text/x-python",
   "name": "python",
   "nbconvert_exporter": "python",
   "pygments_lexer": "ipython3",
   "version": "3.7.10"
  }
 },
 "nbformat": 4,
 "nbformat_minor": 4
}
